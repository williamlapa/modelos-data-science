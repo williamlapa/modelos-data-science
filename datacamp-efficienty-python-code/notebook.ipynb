{
 "cells": [
  {
   "cell_type": "code",
   "execution_count": null,
   "metadata": {},
   "outputs": [],
   "source": [
    "# Importações\n",
    "import numpy as np\n",
    "import pandas as pd"
   ]
  },
  {
   "cell_type": "markdown",
   "metadata": {},
   "source": [
    "FUNÇÃO: %timeit e %%timeit"
   ]
  },
  {
   "cell_type": "code",
   "execution_count": null,
   "metadata": {},
   "outputs": [],
   "source": [
    "# Timeit Duas formas de escrever #\n",
    "# %timeit - unica linha\n",
    "# %lsmagic lista de comandos magicos\n",
    "# %%timeit - mais de uma linha\n",
    "\n",
    "#Inline mode:\n",
    "%timeit rand_nums = np.random.rand(1000)\n",
    "# Runs and loops\n",
    "%timeit -r2 -n10 rand_nums = np.random.rand(1000)\n",
    "\n"
   ]
  },
  {
   "cell_type": "code",
   "execution_count": null,
   "metadata": {},
   "outputs": [],
   "source": [
    "%%timeit\n",
    "nums = []\n",
    "for x in range(10):\n",
    "  nums.append(x)"
   ]
  },
  {
   "cell_type": "markdown",
   "metadata": {},
   "source": [
    "LINE PROFILER \n",
    "(tempo por linha da função)"
   ]
  },
  {
   "cell_type": "code",
   "execution_count": 62,
   "metadata": {},
   "outputs": [
    {
     "name": "stdout",
     "output_type": "stream",
     "text": [
      "Requirement already satisfied: line_profiler in /home/williamlapa/miniconda3/envs/minimal_ds/lib/python3.9/site-packages (4.1.2)\n",
      "Note: you may need to restart the kernel to use updated packages.\n",
      "The line_profiler extension is already loaded. To reload it, use:\n",
      "  %reload_ext line_profiler\n"
     ]
    },
    {
     "name": "stdout",
     "output_type": "stream",
     "text": [
      "Timer unit: 1e-09 s\n",
      "\n",
      "Total time: 0.0007248 s\n",
      "File: /tmp/ipykernel_21401/3805077215.py\n",
      "Function: convert_units at line 10\n",
      "\n",
      "Line #      Hits         Time  Per Hit   % Time  Line Contents\n",
      "==============================================================\n",
      "    10                                           def convert_units(heroes, heights, weights):\n",
      "    11         1     654900.0 654900.0     90.4    new_hts = [ht * 0.39370 for ht in heights]\n",
      "    12         1      57900.0  57900.0      8.0    new_wts = [wt * 2.20462 for wt in weights]\n",
      "    13         1        900.0    900.0      0.1    hero_data = {}\n",
      "    14         1       4100.0   4100.0      0.6    for i,hero in enumerate(heroes):\n",
      "    15         1       4100.0   4100.0      0.6      hero_data[hero] = (new_hts[i], new_wts[i])\n",
      "    16         1       2900.0   2900.0      0.4      return hero_data"
     ]
    }
   ],
   "source": [
    "#Line Profiler\n",
    "# Primeiro instalar via magic comand\n",
    "%pip install line_profiler\n",
    "\n",
    "#Exemplo\n",
    "heroes = ['Batman', 'Superman', 'Wonder Woman']\n",
    "hts = np.array([188.0, 191.0, 183.0])\n",
    "wts = np.array([ 95.0, 101.0, 74.0])\n",
    "\n",
    "def convert_units(heroes, heights, weights):\n",
    "  new_hts = [ht * 0.39370 for ht in heights]\n",
    "  new_wts = [wt * 2.20462 for wt in weights]\n",
    "  hero_data = {}\n",
    "  for i,hero in enumerate(heroes):\n",
    "    hero_data[hero] = (new_hts[i], new_wts[i])\n",
    "    return hero_data\n",
    "  \n",
    "#Ordem execução\n",
    "%load_ext line_profiler\n",
    "%lprun -f convert_units convert_units(heroes, hts, wts)\n"
   ]
  },
  {
   "cell_type": "markdown",
   "metadata": {},
   "source": [
    "MEMORY PROFILER\n",
    "(Consumo de memório por linha da função)"
   ]
  },
  {
   "cell_type": "code",
   "execution_count": null,
   "metadata": {},
   "outputs": [],
   "source": [
    "# Memory Profiler\n",
    "# Importar sys\n",
    "import sys\n",
    "\n",
    "# Instala memory profiler\n",
    "%pip install memory_profiler\n",
    "\n",
    "# Roteiro:\n",
    "from hero_funcs import convert_units\n",
    "%load_ext memory_profiler\n",
    "%mprun -f convert_units convert_units(heroes, hts, wts)\n"
   ]
  },
  {
   "cell_type": "markdown",
   "metadata": {},
   "source": [
    "USANDO \"ITERTOOLS()\""
   ]
  },
  {
   "cell_type": "code",
   "execution_count": null,
   "metadata": {},
   "outputs": [],
   "source": [
    "# Import combinations from itertools\n",
    "from itertools import combinations\n",
    "\n",
    "# Importando datasets\n",
    "pokemon = pd.read_csv('pokemon.csv')\n",
    "\n",
    "# Create a combination object with pairs of Pokémon\n",
    "combos_obj = combinations(pokemon, 2)\n",
    "print(type(combos_obj), '\\n')\n",
    "\n",
    "# Convert combos_obj to a list by unpacking\n",
    "combos_2 = [*combos_obj]\n",
    "print(combos_2, '\\n')\n",
    "\n",
    "# Collect all possible combinations of 4 Pokémon directly into a list\n",
    "combos_4 = [*combinations(pokemon, 4)]\n",
    "print(combos_4)"
   ]
  },
  {
   "cell_type": "markdown",
   "metadata": {},
   "source": [
    "USANDO SETS (Conceito de Conjuntos)"
   ]
  },
  {
   "cell_type": "code",
   "execution_count": null,
   "metadata": {},
   "outputs": [],
   "source": [
    "# Uso de Sets\n",
    "# Set conjunto distintos de elementos de um conjunto (teoria dos conjuntos)\n",
    "ash_pokedex = ['Pikachu', 'Bulbasaur', 'Koffing', 'Spearow', 'Vulpix', 'Wigglytuff', 'Zubat', 'Rattata', 'Psyduck', 'Squirtle']\n",
    "misty_pokedex = ['Krabby','Horsea', 'Slowbro', 'Tentacool', 'Vaporeon', 'Magikarp', 'Poliwag', 'Starmie', 'Psyduck', 'Squirtle']\n",
    "brock_pokedex_set = ['Onix', 'Geodude', 'Zubat', 'Golem', 'Vulpix', 'Tauros', 'Kabutops', 'Omastar', 'Machop', 'Dugtrio']\n",
    "\n",
    "# Convert both lists to sets\n",
    "ash_set = set(ash_pokedex)\n",
    "misty_set = set(misty_pokedex)\n",
    "\n",
    "# Find the Pokémon that exist in both sets\n",
    "both = ash_set.intersection(misty_set)\n",
    "print(both)\n",
    "\n",
    "# Find the Pokémon that Ash has and Misty does not have\n",
    "ash_only = ash_set.difference(misty_set)\n",
    "print(ash_only)\n",
    "\n",
    "# Find the Pokémon that are in only one set (not both)\n",
    "unique_to_set = ash_set.symmetric_difference(misty_set)\n",
    "print(unique_to_set)\n",
    "\n",
    "# Check if Psyduck is in Ash's list and Brock's set\n",
    "print('Psyduck' in ash_pokedex)\n",
    "print('Psyduck' in brock_pokedex_set)\n",
    "\n",
    "# Check if Machop is in Ash's list and Brock's set\n",
    "print('Machop' in ash_pokedex)\n",
    "print('Machop' in ash_pokedex)"
   ]
  },
  {
   "cell_type": "markdown",
   "metadata": {},
   "source": [
    "Usando ZAP, MAP no lugar de LOOPS"
   ]
  },
  {
   "cell_type": "code",
   "execution_count": null,
   "metadata": {},
   "outputs": [],
   "source": [
    "# Definindo a lista de nomes\n",
    "poke_names = pokemon.name\n",
    "poke_gens = pokemon.generation\n",
    "\n",
    "# Definindo a função:\n",
    "gen1_gen2_name_lengths_loop = []\n",
    "\n",
    "for name,gen in zip(poke_names, poke_gens):\n",
    "    if gen < 3:\n",
    "        name_length = len(name)\n",
    "        poke_tuple = (name, name_length)\n",
    "        gen1_gen2_name_lengths_loop.append(poke_tuple)\n",
    "\n",
    "# Collect Pokémon that belong to generation 1 or generation 2\n",
    "gen1_gen2_pokemon = [name for name,gen in zip(poke_names, poke_gens) if gen < 3]\n",
    "\n",
    "# Create a map object that stores the name lengths\n",
    "name_lengths_map = map(len, gen1_gen2_pokemon)\n",
    "\n",
    "# Combine gen1_gen2_pokemon and name_lengths_map into a list\n",
    "gen1_gen2_name_lengths = [*zip(gen1_gen2_pokemon, name_lengths_map)]\n",
    "\n",
    "print(gen1_gen2_name_lengths_loop[:5])\n",
    "print(gen1_gen2_name_lengths[:5])"
   ]
  },
  {
   "cell_type": "markdown",
   "metadata": {},
   "source": [
    "USANDO ITERROWS()"
   ]
  },
  {
   "cell_type": "code",
   "execution_count": null,
   "metadata": {},
   "outputs": [],
   "source": [
    "# Dataframe\n",
    "import pandas as pd\n",
    "import numpy as np\n",
    "\n",
    "# Importando Dataframe:\n",
    "baseball_df = pd.read_csv('baseball_stats.csv')\n",
    "\n",
    "# Usando .iterrows versus .iloc[x]\n",
    "\n",
    "# Definindo a função inicial\n",
    "def calc_win_perc(wins, games_played):\n",
    "  win_perc = wins / games_played\n",
    "  return np.round(win_perc,2)\n",
    "\n",
    "# Mais lento - .iloc[x]\n",
    "win_perc_list = []\n",
    "for i in range(len(baseball_df)):\n",
    "  row = baseball_df.iloc[i]\n",
    "  wins = row['W']\n",
    "  games_played = row['G']\n",
    "  win_perc = calc_win_perc(wins, games_played)\n",
    "  win_perc_list.append(win_perc)\n",
    "\n",
    "baseball_df['WP'] = win_perc_list\n",
    "\n",
    "# Mais rápido - .iterrows\n",
    "win_perc_list = []\n",
    "for i,row in baseball_df.iterrows():\n",
    "  wins = row['W']\n",
    "  games_played = row['G']\n",
    "  win_perc = calc_win_perc(wins, games_played)\n",
    "  win_perc_list.append(win_perc)\n",
    "\n",
    "baseball_df['WP'] = win_perc_list"
   ]
  },
  {
   "cell_type": "code",
   "execution_count": null,
   "metadata": {},
   "outputs": [],
   "source": [
    "# Outro exemplo de Iterrows()\n",
    "\n",
    "# Definindo Dataset:\n",
    "giants_df = baseball_df.loc[baseball_df['Team'] == 'SFG', ['Team', 'League', 'Year', 'RS', 'RA', 'W','Playoffs', 'G']]\n",
    "\n",
    "# Definindo função:\n",
    "def calc_run_diff(runs_scored, runs_allowed):\n",
    "\n",
    "    run_diff = runs_scored - runs_allowed\n",
    "\n",
    "    return run_diff\n",
    "\n",
    "# Create an empty list to store run differentials\n",
    "run_diffs = []\n",
    "\n",
    "# Write a for loop and collect runs allowed and runs scored for each row\n",
    "for i,row in giants_df.iterrows():\n",
    "    runs_scored = row['RS']\n",
    "    runs_allowed = row['RA']\n",
    "    \n",
    "    # Use the provided function to calculate run_diff for each row\n",
    "    run_diff = calc_run_diff(runs_scored, runs_allowed)\n",
    "    \n",
    "    # Append each run differential to the output list\n",
    "    run_diffs.append(run_diff)\n",
    "\n",
    "giants_df['RD'] = run_diffs\n",
    "\n",
    "print(giants_df)"
   ]
  },
  {
   "cell_type": "markdown",
   "metadata": {},
   "source": [
    "USANDO ITERTUPLES()"
   ]
  },
  {
   "cell_type": "code",
   "execution_count": null,
   "metadata": {},
   "outputs": [],
   "source": [
    "# USANDO ITERTUPLES\n",
    "\n",
    "# Definindo Dataset:\n",
    "rangers_df = baseball_df.loc[baseball_df['Team'] == 'TEX', ['Team', 'League', 'Year', 'RS', 'RA', 'W','Playoffs', 'G']]\n",
    "\n",
    "# Loop over the DataFrame and print each row's Index, Year and Wins (W)\n",
    "for row in rangers_df.itertuples():\n",
    "  i = row.Index\n",
    "  year = row.Year\n",
    "  wins = row.W\n",
    "  \n",
    "  # Check if rangers made Playoffs (1 means yes; 0 means no)\n",
    "  if row.Playoffs == 1:\n",
    "    print(i, year, wins)\n"
   ]
  },
  {
   "cell_type": "markdown",
   "metadata": {},
   "source": [
    "USANDO APPLY()"
   ]
  },
  {
   "cell_type": "code",
   "execution_count": null,
   "metadata": {},
   "outputs": [],
   "source": [
    "# USANDO .APPLY()\n",
    "\n",
    "# Definindo Dataset:\n",
    "dbacks_df = baseball_df.loc[baseball_df['Team'] == 'ARI', ['Team', 'League', 'Year', 'RS', 'RA', 'W','Playoffs', 'G']]\n",
    "\n",
    "# Definindo função:\n",
    "def calc_win_perc(wins, games_played):\n",
    "    win_perc = wins / games_played\n",
    "    return np.round(win_perc,2)\n",
    "\n",
    "# Usando apply:\n",
    "win_percs = dbacks_df.apply(lambda row: calc_win_perc(row['W'], row['G']), axis=1)\n",
    "print(win_percs, '\\n')\n",
    "\n",
    "# Append a new column to dbacks_df\n",
    "dbacks_df['WP'] = win_percs\n",
    "print(dbacks_df, '\\n')\n",
    "\n",
    "# Display dbacks_df where WP is greater than 0.50\n",
    "print(dbacks_df[dbacks_df['WP'] >= 0.50])\n"
   ]
  },
  {
   "cell_type": "markdown",
   "metadata": {},
   "source": [
    "USANDO ARRAYS \n",
    "(MÉTODO MAIS SIMPLES E MAIS EFICIENTE DE TODOS!!)"
   ]
  },
  {
   "cell_type": "code",
   "execution_count": null,
   "metadata": {},
   "outputs": [],
   "source": [
    "# Usando Arrays\n",
    "\n",
    "# Definindo função de comparação:\n",
    "def calc_win_perc(wins, games_played):\n",
    "    win_perc = wins / games_played\n",
    "    return np.round(win_perc,2)\n",
    "\n",
    "win_percs_list = []\n",
    "\n",
    "for i in range(len(baseball_df)):\n",
    "    row = baseball_df.iloc[i]\n",
    "\n",
    "    wins = row['W']\n",
    "    games_played = row['G']\n",
    "\n",
    "    win_perc = calc_win_perc(wins, games_played)\n",
    "\n",
    "    win_percs_list.append(win_perc)\n",
    "\n",
    "baseball_df['WP'] = win_percs_list\n",
    "\n",
    "# Fazendo do mesmo jeito usando Array:\n",
    "\n",
    "# Use the W array and G array to calculate win percentages\n",
    "win_percs_np = calc_win_perc(baseball_df['W'].values, baseball_df['G'].values)\n",
    "\n",
    "# Append a new column to baseball_df that stores all win percentages\n",
    "baseball_df['WP'] = win_percs_np\n",
    "\n",
    "print(baseball_df.head())"
   ]
  },
  {
   "cell_type": "markdown",
   "metadata": {},
   "source": [
    "RESUMO GERAL"
   ]
  },
  {
   "cell_type": "code",
   "execution_count": null,
   "metadata": {},
   "outputs": [],
   "source": [
    "# RESUMO GERAL - BRINGING ALL TOGETHER\n",
    "\n",
    "win_perc_preds_loop = []\n",
    "\n",
    "# Use a loop and .itertuples() to collect each row's predicted win percentage\n",
    "for row in baseball_df.itertuples():\n",
    "    runs_scored = row.RS\n",
    "    runs_allowed = row.RA\n",
    "    win_perc_pred = predict_win_perc(runs_scored, runs_allowed)\n",
    "    win_perc_preds_loop.append(win_perc_pred)\n",
    "# 14.7 ms +- 762 us per loop (mean +- std. dev. of 7 runs, 100 loops each)\n",
    "\n",
    "# Apply predict_win_perc to each row of the DataFrame\n",
    "win_perc_preds_apply = baseball_df.apply(lambda row: predict_win_perc(row['RS'], row['RA']), axis=1)\n",
    "# 35.4 ms +- 2.22 ms per loop (mean +- std. dev. of 7 runs, 10 loops each)\n",
    "\n",
    "# Calculate the win percentage predictions using NumPy arrays\n",
    "win_perc_preds_np = predict_win_perc(baseball_df['RS'].values, baseball_df['RA'].values)\n",
    "baseball_df['WP_preds'] = win_perc_preds_np\n",
    "print(baseball_df.head())\n",
    "# 28.5 us +- 2.79 us per loop (mean +- std. dev. of 7 runs, 10000 loops each)"
   ]
  }
 ],
 "metadata": {
  "kernelspec": {
   "display_name": "Python 3 (ipykernel)",
   "language": "python",
   "name": "python3"
  },
  "language_info": {
   "codemirror_mode": {
    "name": "ipython",
    "version": 3
   },
   "file_extension": ".py",
   "mimetype": "text/x-python",
   "name": "python",
   "nbconvert_exporter": "python",
   "pygments_lexer": "ipython3",
   "version": "3.9.6"
  },
  "toc": {
   "base_numbering": 1,
   "nav_menu": {},
   "number_sections": true,
   "sideBar": true,
   "skip_h1_title": false,
   "title_cell": "Table of Contents",
   "title_sidebar": "Contents",
   "toc_cell": false,
   "toc_position": {},
   "toc_section_display": true,
   "toc_window_display": false
  }
 },
 "nbformat": 4,
 "nbformat_minor": 2
}
